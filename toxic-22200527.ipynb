{
 "cells": [
  {
   "cell_type": "code",
   "execution_count": 1,
   "id": "e72d4700",
   "metadata": {
    "_cell_guid": "b1076dfc-b9ad-4769-8c92-a6c4dae69d19",
    "_uuid": "8f2839f25d086af736a60e9eeb907d3b93b6e0e5",
    "execution": {
     "iopub.execute_input": "2024-07-15T03:13:41.452888Z",
     "iopub.status.busy": "2024-07-15T03:13:41.452478Z",
     "iopub.status.idle": "2024-07-15T03:13:49.440225Z",
     "shell.execute_reply": "2024-07-15T03:13:49.438970Z"
    },
    "papermill": {
     "duration": 7.994911,
     "end_time": "2024-07-15T03:13:49.442925",
     "exception": false,
     "start_time": "2024-07-15T03:13:41.448014",
     "status": "completed"
    },
    "tags": []
   },
   "outputs": [
    {
     "name": "stdout",
     "output_type": "stream",
     "text": [
      "/kaggle/input/jigsaw-toxic-comment-classification-challenge/train.csv.zip\n",
      "/kaggle/input/jigsaw-toxic-comment-classification-challenge/sample_submission.csv.zip\n",
      "/kaggle/input/jigsaw-toxic-comment-classification-challenge/test_labels.csv.zip\n",
      "/kaggle/input/jigsaw-toxic-comment-classification-challenge/test.csv.zip\n"
     ]
    }
   ],
   "source": [
    "# This Python 3 environment comes with many helpful analytics libraries installed\n",
    "# It is defined by the kaggle/python Docker image: https://github.com/kaggle/docker-python\n",
    "# For example, here's several helpful packages to load\n",
    "\n",
    "import numpy as np # linear algebra\n",
    "import pandas as pd # data processing, CSV file I/O (e.g. pd.read_csv)\n",
    "\n",
    "from sklearn.feature_extraction.text import TfidfVectorizer\n",
    "from sklearn.linear_model import LogisticRegression\n",
    "from sklearn.metrics import roc_auc_score\n",
    "\n",
    "import torch\n",
    "import torch.nn as nn\n",
    "import torch.nn.functional as F\n",
    "import torch.optim as optim\n",
    "from torchvision import datasets, transforms\n",
    "from torch.autograd import Variable\n",
    "\n",
    "\n",
    "\n",
    "\n",
    "\n",
    "\n",
    "\n",
    "# Input data files are available in the read-only \"../input/\" directory\n",
    "# For example, running this (by clicking run or pressing Shift+Enter) will list all files under the input directory\n",
    "\n",
    "\n",
    "\n",
    "\n",
    "import os\n",
    "for dirname, _, filenames in os.walk('/kaggle/input'):\n",
    "    for filename in filenames:\n",
    "        print(os.path.join(dirname, filename))\n",
    "\n",
    "# You can write up to 20GB to the current directory (/kaggle/working/) that gets preserved as output when you create a version using \"Save & Run All\" \n",
    "# You can also write temporary files to /kaggle/temp/, but they won't be saved outside of the current session"
   ]
  },
  {
   "cell_type": "code",
   "execution_count": 2,
   "id": "a8b7d312",
   "metadata": {
    "execution": {
     "iopub.execute_input": "2024-07-15T03:13:49.449965Z",
     "iopub.status.busy": "2024-07-15T03:13:49.449208Z",
     "iopub.status.idle": "2024-07-15T03:13:53.159297Z",
     "shell.execute_reply": "2024-07-15T03:13:53.158345Z"
    },
    "papermill": {
     "duration": 3.716204,
     "end_time": "2024-07-15T03:13:53.161929",
     "exception": false,
     "start_time": "2024-07-15T03:13:49.445725",
     "status": "completed"
    },
    "tags": []
   },
   "outputs": [],
   "source": [
    "train = pd.read_csv('/kaggle/input/jigsaw-toxic-comment-classification-challenge/train.csv.zip')\n",
    "test = pd.read_csv('/kaggle/input/jigsaw-toxic-comment-classification-challenge/test.csv.zip')\n",
    "test_labels = pd.read_csv('/kaggle/input/jigsaw-toxic-comment-classification-challenge/test_labels.csv.zip')"
   ]
  },
  {
   "cell_type": "code",
   "execution_count": 3,
   "id": "c156881b",
   "metadata": {
    "execution": {
     "iopub.execute_input": "2024-07-15T03:13:53.168197Z",
     "iopub.status.busy": "2024-07-15T03:13:53.167818Z",
     "iopub.status.idle": "2024-07-15T03:15:02.663926Z",
     "shell.execute_reply": "2024-07-15T03:15:02.662642Z"
    },
    "papermill": {
     "duration": 69.501605,
     "end_time": "2024-07-15T03:15:02.666108",
     "exception": false,
     "start_time": "2024-07-15T03:13:53.164503",
     "status": "completed"
    },
    "tags": []
   },
   "outputs": [
    {
     "name": "stdout",
     "output_type": "stream",
     "text": [
      "Training model for toxic\n",
      "Training model for severe_toxic\n",
      "Training model for obscene\n",
      "Training model for threat\n",
      "Training model for insult\n",
      "Training model for identity_hate\n",
      "Predicting for toxic\n",
      "Predicting for severe_toxic\n",
      "Predicting for obscene\n",
      "Predicting for threat\n",
      "Predicting for insult\n",
      "Predicting for identity_hate\n",
      "Submission file created successfully!\n"
     ]
    }
   ],
   "source": [
    "import pandas as pd\n",
    "import numpy as np\n",
    "from sklearn.feature_extraction.text import TfidfVectorizer\n",
    "from sklearn.linear_model import LogisticRegression\n",
    "\n",
    "# Load the data\n",
    "train = pd.read_csv('/kaggle/input/jigsaw-toxic-comment-classification-challenge/train.csv.zip')\n",
    "test = pd.read_csv('/kaggle/input/jigsaw-toxic-comment-classification-challenge/test.csv.zip')\n",
    "test_labels = pd.read_csv('/kaggle/input/jigsaw-toxic-comment-classification-challenge/test_labels.csv.zip')\n",
    "\n",
    "vectorizer = TfidfVectorizer(max_features=20000, stop_words='english')\n",
    "X_train = vectorizer.fit_transform(train['comment_text'])\n",
    "X_test = vectorizer.transform(test['comment_text'])\n",
    "\n",
    "y_train = train[['toxic', 'severe_toxic', 'obscene', 'threat', 'insult', 'identity_hate']].values\n",
    "\n",
    "models = {}\n",
    "for i, label in enumerate(['toxic', 'severe_toxic', 'obscene', 'threat', 'insult', 'identity_hate']):\n",
    "    print(f\"Training model for {label}\")\n",
    "    model = LogisticRegression(max_iter=1000)\n",
    "    model.fit(X_train, y_train[:, i])\n",
    "    models[label] = model\n",
    "\n",
    "test_preds = np.zeros((X_test.shape[0], len(models)))\n",
    "\n",
    "for i, (label, model) in enumerate(models.items()):\n",
    "    print(f\"Predicting for {label}\")\n",
    "    test_preds[:, i] = model.predict_proba(X_test)[:, 1]\n",
    "\n",
    "submission = pd.DataFrame(data=test_preds, columns=['toxic', 'severe_toxic', 'obscene', 'threat', 'insult', 'identity_hate'])\n",
    "submission.insert(0, 'id', test['id'])\n",
    "submission.to_csv('submission.csv', index=False)\n",
    "\n",
    "print(\"Submission file created successfully!\")\n"
   ]
  }
 ],
 "metadata": {
  "kaggle": {
   "accelerator": "nvidiaTeslaT4",
   "dataSources": [
    {
     "databundleVersionId": 44219,
     "sourceId": 8076,
     "sourceType": "competition"
    }
   ],
   "dockerImageVersionId": 30747,
   "isGpuEnabled": true,
   "isInternetEnabled": true,
   "language": "python",
   "sourceType": "notebook"
  },
  "kernelspec": {
   "display_name": "Python 3",
   "language": "python",
   "name": "python3"
  },
  "language_info": {
   "codemirror_mode": {
    "name": "ipython",
    "version": 3
   },
   "file_extension": ".py",
   "mimetype": "text/x-python",
   "name": "python",
   "nbconvert_exporter": "python",
   "pygments_lexer": "ipython3",
   "version": "3.10.13"
  },
  "papermill": {
   "default_parameters": {},
   "duration": 85.795516,
   "end_time": "2024-07-15T03:15:04.292640",
   "environment_variables": {},
   "exception": null,
   "input_path": "__notebook__.ipynb",
   "output_path": "__notebook__.ipynb",
   "parameters": {},
   "start_time": "2024-07-15T03:13:38.497124",
   "version": "2.5.0"
  }
 },
 "nbformat": 4,
 "nbformat_minor": 5
}
